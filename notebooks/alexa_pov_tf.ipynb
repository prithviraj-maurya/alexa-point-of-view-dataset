{
 "nbformat": 4,
 "nbformat_minor": 0,
 "metadata": {
  "colab": {
   "provenance": [],
   "gpuType": "T4"
  },
  "kernelspec": {
   "name": "python3",
   "display_name": "Python 3"
  },
  "language_info": {
   "name": "python"
  },
  "accelerator": "GPU"
 },
 "cells": [
  {
   "cell_type": "markdown",
   "source": [
    "Ref: https://www.tensorflow.org/text/tutorials/nmt_with_attention#export"
   ],
   "metadata": {
    "collapsed": false
   }
  },
  {
   "cell_type": "code",
   "execution_count": 1,
   "metadata": {
    "colab": {
     "base_uri": "https://localhost:8080/"
    },
    "id": "BfCxRGg5fEfT",
    "outputId": "fb4282a9-de99-436e-ea00-c1ab80fbedcf"
   },
   "outputs": [
    {
     "output_type": "stream",
     "name": "stdout",
     "text": [
      "\u001B[2K     \u001B[90m━━━━━━━━━━━━━━━━━━━━━━━━━━━━━━━━━━━━━━━━\u001B[0m \u001B[32m6.5/6.5 MB\u001B[0m \u001B[31m52.9 MB/s\u001B[0m eta \u001B[36m0:00:00\u001B[0m\n",
      "\u001B[2K     \u001B[90m━━━━━━━━━━━━━━━━━━━━━━━━━━━━━━━━━━━━━━━━\u001B[0m \u001B[32m118.9/118.9 kB\u001B[0m \u001B[31m13.9 MB/s\u001B[0m eta \u001B[36m0:00:00\u001B[0m\n",
      "\u001B[2K     \u001B[90m━━━━━━━━━━━━━━━━━━━━━━━━━━━━━━━━━━━━━━━━\u001B[0m \u001B[32m84.1/84.1 kB\u001B[0m \u001B[31m13.2 MB/s\u001B[0m eta \u001B[36m0:00:00\u001B[0m\n",
      "\u001B[2K     \u001B[90m━━━━━━━━━━━━━━━━━━━━━━━━━━━━━━━━━━━━━━━━\u001B[0m \u001B[32m493.7/493.7 kB\u001B[0m \u001B[31m41.9 MB/s\u001B[0m eta \u001B[36m0:00:00\u001B[0m\n",
      "\u001B[2K     \u001B[90m━━━━━━━━━━━━━━━━━━━━━━━━━━━━━━━━━━━━━━━━\u001B[0m \u001B[32m115.3/115.3 kB\u001B[0m \u001B[31m13.6 MB/s\u001B[0m eta \u001B[36m0:00:00\u001B[0m\n",
      "\u001B[2K     \u001B[90m━━━━━━━━━━━━━━━━━━━━━━━━━━━━━━━━━━━━━━━━\u001B[0m \u001B[32m134.8/134.8 kB\u001B[0m \u001B[31m15.8 MB/s\u001B[0m eta \u001B[36m0:00:00\u001B[0m\n",
      "\u001B[2K     \u001B[90m━━━━━━━━━━━━━━━━━━━━━━━━━━━━━━━━━━━━━━━━\u001B[0m \u001B[32m302.0/302.0 kB\u001B[0m \u001B[31m32.2 MB/s\u001B[0m eta \u001B[36m0:00:00\u001B[0m\n",
      "\u001B[?25h"
     ]
    }
   ],
   "source": [
    "!pip install tensorflow-text sacrebleu evaluate --quiet"
   ]
  },
  {
   "cell_type": "code",
   "source": [
    "## Data\n",
    "!wget https://github.com/alexa/alexa-point-of-view-dataset/raw/main/data/train.tsv\n",
    "!wget https://github.com/alexa/alexa-point-of-view-dataset/raw/main/data/test.tsv\n",
    "!wget https://github.com/alexa/alexa-point-of-view-dataset/raw/main/data/dev.tsv\n",
    "!wget https://github.com/alexa/alexa-point-of-view-dataset/raw/main/data/total.tsv"
   ],
   "metadata": {
    "id": "DBidlhc9feuD",
    "colab": {
     "base_uri": "https://localhost:8080/"
    },
    "outputId": "e5175d1e-0158-444d-f548-2552b8e10451"
   },
   "execution_count": 2,
   "outputs": [
    {
     "output_type": "stream",
     "name": "stdout",
     "text": [
      "--2023-11-02 22:44:20--  https://github.com/alexa/alexa-point-of-view-dataset/raw/main/data/train.tsv\n",
      "Resolving github.com (github.com)... 20.205.243.166\n",
      "Connecting to github.com (github.com)|20.205.243.166|:443... connected.\n",
      "HTTP request sent, awaiting response... 302 Found\n",
      "Location: https://raw.githubusercontent.com/alexa/alexa-point-of-view-dataset/main/data/train.tsv [following]\n",
      "--2023-11-02 22:44:21--  https://raw.githubusercontent.com/alexa/alexa-point-of-view-dataset/main/data/train.tsv\n",
      "Resolving raw.githubusercontent.com (raw.githubusercontent.com)... 185.199.108.133, 185.199.109.133, 185.199.110.133, ...\n",
      "Connecting to raw.githubusercontent.com (raw.githubusercontent.com)|185.199.108.133|:443... connected.\n",
      "HTTP request sent, awaiting response... 200 OK\n",
      "Length: 3341471 (3.2M) [text/plain]\n",
      "Saving to: ‘train.tsv’\n",
      "\n",
      "train.tsv           100%[===================>]   3.19M  --.-KB/s    in 0.02s   \n",
      "\n",
      "2023-11-02 22:44:21 (183 MB/s) - ‘train.tsv’ saved [3341471/3341471]\n",
      "\n",
      "--2023-11-02 22:44:21--  https://github.com/alexa/alexa-point-of-view-dataset/raw/main/data/test.tsv\n",
      "Resolving github.com (github.com)... 20.205.243.166\n",
      "Connecting to github.com (github.com)|20.205.243.166|:443... connected.\n",
      "HTTP request sent, awaiting response... 302 Found\n",
      "Location: https://raw.githubusercontent.com/alexa/alexa-point-of-view-dataset/main/data/test.tsv [following]\n",
      "--2023-11-02 22:44:21--  https://raw.githubusercontent.com/alexa/alexa-point-of-view-dataset/main/data/test.tsv\n",
      "Resolving raw.githubusercontent.com (raw.githubusercontent.com)... 185.199.108.133, 185.199.109.133, 185.199.110.133, ...\n",
      "Connecting to raw.githubusercontent.com (raw.githubusercontent.com)|185.199.108.133|:443... connected.\n",
      "HTTP request sent, awaiting response... 200 OK\n",
      "Length: 718582 (702K) [text/plain]\n",
      "Saving to: ‘test.tsv’\n",
      "\n",
      "test.tsv            100%[===================>] 701.74K  --.-KB/s    in 0.006s  \n",
      "\n",
      "2023-11-02 22:44:22 (116 MB/s) - ‘test.tsv’ saved [718582/718582]\n",
      "\n",
      "--2023-11-02 22:44:22--  https://github.com/alexa/alexa-point-of-view-dataset/raw/main/data/dev.tsv\n",
      "Resolving github.com (github.com)... 20.205.243.166\n",
      "Connecting to github.com (github.com)|20.205.243.166|:443... connected.\n",
      "HTTP request sent, awaiting response... 302 Found\n",
      "Location: https://raw.githubusercontent.com/alexa/alexa-point-of-view-dataset/main/data/dev.tsv [following]\n",
      "--2023-11-02 22:44:22--  https://raw.githubusercontent.com/alexa/alexa-point-of-view-dataset/main/data/dev.tsv\n",
      "Resolving raw.githubusercontent.com (raw.githubusercontent.com)... 185.199.108.133, 185.199.109.133, 185.199.110.133, ...\n",
      "Connecting to raw.githubusercontent.com (raw.githubusercontent.com)|185.199.108.133|:443... connected.\n",
      "HTTP request sent, awaiting response... 200 OK\n",
      "Length: 719175 (702K) [text/plain]\n",
      "Saving to: ‘dev.tsv’\n",
      "\n",
      "dev.tsv             100%[===================>] 702.32K  --.-KB/s    in 0.005s  \n",
      "\n",
      "2023-11-02 22:44:23 (135 MB/s) - ‘dev.tsv’ saved [719175/719175]\n",
      "\n",
      "--2023-11-02 22:44:23--  https://github.com/alexa/alexa-point-of-view-dataset/raw/main/data/total.tsv\n",
      "Resolving github.com (github.com)... 20.205.243.166\n",
      "Connecting to github.com (github.com)|20.205.243.166|:443... connected.\n",
      "HTTP request sent, awaiting response... 302 Found\n",
      "Location: https://raw.githubusercontent.com/alexa/alexa-point-of-view-dataset/main/data/total.tsv [following]\n",
      "--2023-11-02 22:44:24--  https://raw.githubusercontent.com/alexa/alexa-point-of-view-dataset/main/data/total.tsv\n",
      "Resolving raw.githubusercontent.com (raw.githubusercontent.com)... 185.199.108.133, 185.199.109.133, 185.199.110.133, ...\n",
      "Connecting to raw.githubusercontent.com (raw.githubusercontent.com)|185.199.108.133|:443... connected.\n",
      "HTTP request sent, awaiting response... 200 OK\n",
      "Length: 4779202 (4.6M) [text/plain]\n",
      "Saving to: ‘total.tsv’\n",
      "\n",
      "total.tsv           100%[===================>]   4.56M  --.-KB/s    in 0.01s   \n",
      "\n",
      "2023-11-02 22:44:24 (382 MB/s) - ‘total.tsv’ saved [4779202/4779202]\n",
      "\n"
     ]
    }
   ]
  },
  {
   "cell_type": "code",
   "source": [
    "import numpy as np\n",
    "import matplotlib.pyplot as plt\n",
    "import matplotlib.ticker as ticker\n",
    "import tensorflow as tf\n",
    "import tensorflow_text as tf_text\n",
    "import pathlib"
   ],
   "metadata": {
    "id": "ui8-l_k9fUV_"
   },
   "execution_count": 3,
   "outputs": []
  },
  {
   "cell_type": "code",
   "source": [
    "def load_data(path):\n",
    "  text = path.read_text(encoding='utf-8')\n",
    "\n",
    "  lines = text.splitlines()\n",
    "  pairs = [line.split('\\t') for line in lines]\n",
    "\n",
    "  context = np.array([context for target, context in pairs])\n",
    "  target = np.array([target for target, context in pairs])\n",
    "\n",
    "  return target, context"
   ],
   "metadata": {
    "id": "NkLL-_eUf5WV"
   },
   "execution_count": 4,
   "outputs": []
  },
  {
   "cell_type": "code",
   "source": [
    "target_raw, context_raw = load_data(pathlib.Path(\"/content/train.tsv\"))\n",
    "context_raw[-1], target_raw[-1]"
   ],
   "metadata": {
    "colab": {
     "base_uri": "https://localhost:8080/"
    },
    "id": "KZnxkcX5glVk",
    "outputId": "ee1131e4-44f3-453b-8398-a02780f9af11"
   },
   "execution_count": 5,
   "outputs": [
    {
     "output_type": "execute_result",
     "data": {
      "text/plain": [
       "('@SCN@ is wondering why the toilet seat was left up.',\n",
       " 'please ask @CN@ why was the toilet seat was left up.')"
      ]
     },
     "metadata": {},
     "execution_count": 5
    }
   ]
  },
  {
   "cell_type": "code",
   "source": [
    "BUFFER_SIZE = len(context_raw)\n",
    "BATCH_SIZE = 64\n",
    "\n",
    "is_train = np.random.uniform(size=(len(target_raw),)) < 0.8\n",
    "\n",
    "train_raw = (\n",
    "    tf.data.Dataset\n",
    "    .from_tensor_slices((context_raw[is_train], target_raw[is_train]))\n",
    "    .shuffle(BUFFER_SIZE)\n",
    "    .batch(BATCH_SIZE))\n",
    "val_raw = (\n",
    "    tf.data.Dataset\n",
    "    .from_tensor_slices((context_raw[~is_train], target_raw[~is_train]))\n",
    "    .shuffle(BUFFER_SIZE)\n",
    "    .batch(BATCH_SIZE))\n"
   ],
   "metadata": {
    "id": "dqMQRfXcgv9b"
   },
   "execution_count": 6,
   "outputs": []
  },
  {
   "cell_type": "code",
   "source": [
    "for example_context_strings, example_target_strings in train_raw.take(1):\n",
    "  print(example_context_strings[:5])\n",
    "  print()\n",
    "  print(example_target_strings[:5])\n",
    "  break\n"
   ],
   "metadata": {
    "colab": {
     "base_uri": "https://localhost:8080/"
    },
    "id": "9gRwe5bNhNQa",
    "outputId": "a4d66342-cd91-4b14-f17e-234dbb325401"
   },
   "execution_count": 7,
   "outputs": [
    {
     "output_type": "stream",
     "name": "stdout",
     "text": [
      "tf.Tensor(\n",
      "[b'@SCN@ asks do you feel appetite?'\n",
      " b'hi @CN@, @SCN@ says that they have submitted the documentation'\n",
      " b'hi @CN@ , @SCN@ conveys that the sessions are tough'\n",
      " b'hi @CN@, @SCN@ reminds you to get a bass guitarist for the band'\n",
      " b'hi @CN@ , @SCN@ requests you for an invitation to join the gaming club'], shape=(5,), dtype=string)\n",
      "\n",
      "tf.Tensor(\n",
      "[b'ask @CN@ do you feel appetite?'\n",
      " b'tell @CN@ that the i have submitted the documentation'\n",
      " b'can you tell @CN@ that the sessions are tough'\n",
      " b'can you remind @CN@ to get a bass guitarist for the band'\n",
      " b'ask @CN@ to send an invitation to join the gaming club'], shape=(5,), dtype=string)\n"
     ]
    }
   ]
  },
  {
   "cell_type": "markdown",
   "source": [
    "Standardization"
   ],
   "metadata": {
    "id": "st6aPIIAhqGy"
   }
  },
  {
   "cell_type": "code",
   "source": [
    "def tf_lower_and_split_punct(text):\n",
    "  # Split accented characters.\n",
    "  text = tf_text.normalize_utf8(text, 'NFKD')\n",
    "  text = tf.strings.lower(text)\n",
    "  # Keep space, a to z, and select punctuation.\n",
    "  text = tf.strings.regex_replace(text, '[^ a-z.?!,¿]', '')\n",
    "  # Add spaces around punctuation.\n",
    "  text = tf.strings.regex_replace(text, '[.?!,¿]', r' \\0 ')\n",
    "  # Strip whitespace.\n",
    "  text = tf.strings.strip(text)\n",
    "\n",
    "  text = tf.strings.join(['[START]', text, '[END]'], separator=' ')\n",
    "  return text\n"
   ],
   "metadata": {
    "id": "l85i-gyNhQjj"
   },
   "execution_count": 8,
   "outputs": []
  },
  {
   "cell_type": "code",
   "source": [
    "example_text = tf.constant(\"hi @CN@ , @SCN@ wanted you to read the catalog.\")\n",
    "print(example_text.numpy().decode())\n",
    "print(tf_lower_and_split_punct(example_text).numpy().decode())"
   ],
   "metadata": {
    "colab": {
     "base_uri": "https://localhost:8080/"
    },
    "id": "ZyyBfWdxhWIS",
    "outputId": "f2ce4cb9-0c33-40f5-ee62-8fb93b9101e9"
   },
   "execution_count": 9,
   "outputs": [
    {
     "output_type": "stream",
     "name": "stdout",
     "text": [
      "hi @CN@ , @SCN@ wanted you to read the catalog.\n",
      "[START] hi cn  ,  scn wanted you to read the catalog . [END]\n"
     ]
    }
   ]
  },
  {
   "cell_type": "markdown",
   "source": [
    "Text Vectorization"
   ],
   "metadata": {
    "id": "HyaCbMc1hl15"
   }
  },
  {
   "cell_type": "code",
   "source": [
    "max_vocab_size = 5000\n",
    "\n",
    "context_text_processor = tf.keras.layers.TextVectorization(\n",
    "    standardize=tf_lower_and_split_punct,\n",
    "    max_tokens=max_vocab_size,\n",
    "    ragged=True)\n"
   ],
   "metadata": {
    "id": "3qJ_1ZIKhcqb"
   },
   "execution_count": 10,
   "outputs": []
  },
  {
   "cell_type": "code",
   "source": [
    "context_text_processor.adapt(train_raw.map(lambda context, target: context))\n",
    "\n",
    "# Here are the first 10 words from the vocabulary:\n",
    "context_text_processor.get_vocabulary()[:10]"
   ],
   "metadata": {
    "colab": {
     "base_uri": "https://localhost:8080/"
    },
    "id": "S7ni6S3thkd7",
    "outputId": "2ef8356f-5308-4ae4-dc8c-39d71aa0ad37"
   },
   "execution_count": 11,
   "outputs": [
    {
     "output_type": "execute_result",
     "data": {
      "text/plain": [
       "['', '[UNK]', 'scn', '[START]', '[END]', 'cn', ',', 'to', 'you', 'hi']"
      ]
     },
     "metadata": {},
     "execution_count": 11
    }
   ]
  },
  {
   "cell_type": "code",
   "source": [
    "target_text_processor = tf.keras.layers.TextVectorization(\n",
    "    standardize=tf_lower_and_split_punct,\n",
    "    max_tokens=max_vocab_size,\n",
    "    ragged=True)\n",
    "\n",
    "target_text_processor.adapt(train_raw.map(lambda context, target: target))\n",
    "target_text_processor.get_vocabulary()[:10]"
   ],
   "metadata": {
    "colab": {
     "base_uri": "https://localhost:8080/"
    },
    "id": "-mC8eP3hht6i",
    "outputId": "40cf276d-839f-41eb-e4bc-334925ff6194"
   },
   "execution_count": 12,
   "outputs": [
    {
     "output_type": "execute_result",
     "data": {
      "text/plain": [
       "['', '[UNK]', '[START]', '[END]', 'cn', 'ask', 'you', 'the', 'to', ',']"
      ]
     },
     "metadata": {},
     "execution_count": 12
    }
   ]
  },
  {
   "cell_type": "code",
   "source": [
    "example_tokens = context_text_processor(example_context_strings)\n",
    "example_tokens[:3, :]"
   ],
   "metadata": {
    "colab": {
     "base_uri": "https://localhost:8080/"
    },
    "id": "8IDGcnefhyCC",
    "outputId": "a5695ae4-551e-4eaf-d800-e02b445ea13c"
   },
   "execution_count": 13,
   "outputs": [
    {
     "output_type": "execute_result",
     "data": {
      "text/plain": [
       "<tf.RaggedTensor [[3, 2, 31, 34, 8, 627, 1, 21, 4],\n",
       " [3, 9, 5, 6, 2, 32, 20, 36, 35, 1122, 10, 2543, 4],\n",
       " [3, 9, 5, 6, 2, 98, 20, 10, 1874, 25, 3200, 4]]>"
      ]
     },
     "metadata": {},
     "execution_count": 13
    }
   ]
  },
  {
   "cell_type": "code",
   "source": [
    "context_vocab = np.array(context_text_processor.get_vocabulary())\n",
    "tokens = context_vocab[example_tokens[0].numpy()]\n",
    "' '.join(tokens)\n"
   ],
   "metadata": {
    "colab": {
     "base_uri": "https://localhost:8080/",
     "height": 36
    },
    "id": "YJSEN3uxhz-Z",
    "outputId": "849758bd-13c8-4ec1-81fb-b0592ee4a4aa"
   },
   "execution_count": 14,
   "outputs": [
    {
     "output_type": "execute_result",
     "data": {
      "text/plain": [
       "'[START] scn asks do you feel [UNK] ? [END]'"
      ],
      "application/vnd.google.colaboratory.intrinsic+json": {
       "type": "string"
      }
     },
     "metadata": {},
     "execution_count": 14
    }
   ]
  },
  {
   "cell_type": "code",
   "source": [
    "plt.subplot(1, 2, 1)\n",
    "plt.pcolormesh(example_tokens.to_tensor())\n",
    "plt.title('Token IDs')\n",
    "\n",
    "plt.subplot(1, 2, 2)\n",
    "plt.pcolormesh(example_tokens.to_tensor() != 0)\n",
    "plt.title('Mask')\n"
   ],
   "metadata": {
    "colab": {
     "base_uri": "https://localhost:8080/",
     "height": 471
    },
    "id": "rusZKeCCh93S",
    "outputId": "57279458-aa5f-4d83-b58d-6ddcd0348af1"
   },
   "execution_count": 15,
   "outputs": [
    {
     "output_type": "execute_result",
     "data": {
      "text/plain": [
       "Text(0.5, 1.0, 'Mask')"
      ]
     },
     "metadata": {},
     "execution_count": 15
    },
    {
     "output_type": "display_data",
     "data": {
      "text/plain": [
       "<Figure size 640x480 with 2 Axes>"
      ],
      "image/png": "[encoded data removed]"
     },
     "metadata": {}
    }
   ]
  },
  {
   "cell_type": "markdown",
   "source": [
    "Process the dataset"
   ],
   "metadata": {
    "id": "Fc0yHSeJiKO3"
   }
  },
  {
   "cell_type": "code",
   "source": [
    "def process_text(context, target):\n",
    "  context = context_text_processor(context).to_tensor()\n",
    "  target = target_text_processor(target)\n",
    "  targ_in = target[:,:-1].to_tensor()\n",
    "  targ_out = target[:,1:].to_tensor()\n",
    "  return (context, targ_in), targ_out\n",
    "\n",
    "\n",
    "train_ds = train_raw.map(process_text, tf.data.AUTOTUNE)\n",
    "val_ds = val_raw.map(process_text, tf.data.AUTOTUNE)\n"
   ],
   "metadata": {
    "id": "MXtro02iiBIj"
   },
   "execution_count": 16,
   "outputs": []
  },
  {
   "cell_type": "code",
   "source": [
    "for (ex_context_tok, ex_tar_in), ex_tar_out in train_ds.take(1):\n",
    "  print(ex_context_tok[0, :10].numpy())\n",
    "  print()\n",
    "  print(ex_tar_in[0, :10].numpy())\n",
    "  print(ex_tar_out[0, :10].numpy())\n"
   ],
   "metadata": {
    "colab": {
     "base_uri": "https://localhost:8080/"
    },
    "id": "iPIiRs5MiL2J",
    "outputId": "189b790e-e998-4668-af7b-dcc91797a8c1"
   },
   "execution_count": 17,
   "outputs": [
    {
     "output_type": "stream",
     "name": "stdout",
     "text": [
      "[  3   9   5   6   2  16   7 181  26  57]\n",
      "\n",
      "[  2   5   4  18  54 311   0   0   0   0]\n",
      "[  5   4  18  54 311   3   0   0   0   0]\n"
     ]
    }
   ]
  },
  {
   "cell_type": "markdown",
   "source": [
    "Eoncoder Decoder"
   ],
   "metadata": {
    "id": "nW_vA6vLiRJm"
   }
  },
  {
   "cell_type": "code",
   "source": [
    "UNITS = 256"
   ],
   "metadata": {
    "id": "rixDVjm6iOQp"
   },
   "execution_count": 18,
   "outputs": []
  },
  {
   "cell_type": "code",
   "source": [
    "class Encoder(tf.keras.layers.Layer):\n",
    "  def __init__(self, text_processor, units):\n",
    "    super(Encoder, self).__init__()\n",
    "    self.text_processor = text_processor\n",
    "    self.vocab_size = text_processor.vocabulary_size()\n",
    "    self.units = units\n",
    "\n",
    "    # The embedding layer converts tokens to vectors\n",
    "    self.embedding = tf.keras.layers.Embedding(self.vocab_size, units,\n",
    "                                               mask_zero=True)\n",
    "\n",
    "    # The RNN layer processes those vectors sequentially.\n",
    "    self.rnn = tf.keras.layers.Bidirectional(\n",
    "        merge_mode='sum',\n",
    "        layer=tf.keras.layers.GRU(units,\n",
    "                            # Return the sequence and state\n",
    "                            return_sequences=True,\n",
    "                            recurrent_initializer='glorot_uniform'))\n",
    "\n",
    "  def call(self, x):\n",
    "\n",
    "    # 2. The embedding layer looks up the embedding vector for each token.\n",
    "    x = self.embedding(x)\n",
    "\n",
    "    # 3. The GRU processes the sequence of embeddings.\n",
    "    x = self.rnn(x)\n",
    "\n",
    "    # 4. Returns the new sequence of embeddings.\n",
    "    return x\n",
    "\n",
    "  def convert_input(self, texts):\n",
    "    texts = tf.convert_to_tensor(texts)\n",
    "    if len(texts.shape) == 0:\n",
    "      texts = tf.convert_to_tensor(texts)[tf.newaxis]\n",
    "    context = self.text_processor(texts).to_tensor()\n",
    "    context = self(context)\n",
    "    return context\n"
   ],
   "metadata": {
    "id": "o5Com71ciStp"
   },
   "execution_count": 19,
   "outputs": []
  },
  {
   "cell_type": "code",
   "source": [
    "# Encode the input sequence.\n",
    "encoder = Encoder(context_text_processor, UNITS)\n",
    "ex_context = encoder(ex_context_tok)\n",
    "\n",
    "print(f'Context tokens, shape (batch, s): {ex_context_tok.shape}')\n",
    "print(f'Encoder output, shape (batch, s, units): {ex_context.shape}')\n"
   ],
   "metadata": {
    "colab": {
     "base_uri": "https://localhost:8080/"
    },
    "id": "IDUawLJviUQB",
    "outputId": "3c518c35-3e74-49c2-c5b6-fbfeb3bad21f"
   },
   "execution_count": 20,
   "outputs": [
    {
     "output_type": "stream",
     "name": "stdout",
     "text": [
      "Context tokens, shape (batch, s): (64, 22)\n",
      "Encoder output, shape (batch, s, units): (64, 22, 256)\n"
     ]
    }
   ]
  },
  {
   "cell_type": "code",
   "source": [
    "class CrossAttention(tf.keras.layers.Layer):\n",
    "  def __init__(self, units, **kwargs):\n",
    "    super().__init__()\n",
    "    self.mha = tf.keras.layers.MultiHeadAttention(key_dim=units, num_heads=1, **kwargs)\n",
    "    self.layernorm = tf.keras.layers.LayerNormalization()\n",
    "    self.add = tf.keras.layers.Add()\n",
    "\n",
    "  def call(self, x, context):\n",
    "    attn_output, attn_scores = self.mha(\n",
    "        query=x,\n",
    "        value=context,\n",
    "        return_attention_scores=True)\n",
    "\n",
    "\n",
    "    # Cache the attention scores for plotting later.\n",
    "    attn_scores = tf.reduce_mean(attn_scores, axis=1)\n",
    "    self.last_attention_weights = attn_scores\n",
    "\n",
    "    x = self.add([x, attn_output])\n",
    "    x = self.layernorm(x)\n",
    "\n",
    "    return x\n"
   ],
   "metadata": {
    "id": "3w1EO2W2iWFA"
   },
   "execution_count": 21,
   "outputs": []
  },
  {
   "cell_type": "code",
   "source": [
    "attention_layer = CrossAttention(UNITS)\n",
    "\n",
    "# Attend to the encoded tokens\n",
    "embed = tf.keras.layers.Embedding(target_text_processor.vocabulary_size(),\n",
    "                                  output_dim=UNITS, mask_zero=True)\n",
    "ex_tar_embed = embed(ex_tar_in)\n",
    "\n",
    "result = attention_layer(ex_tar_embed, ex_context)\n",
    "\n",
    "print(f'Context sequence, shape (batch, s, units): {ex_context.shape}')\n",
    "print(f'Target sequence, shape (batch, t, units): {ex_tar_embed.shape}')\n",
    "print(f'Attention result, shape (batch, t, units): {result.shape}')\n",
    "print(f'Attention weights, shape (batch, t, s):    {attention_layer.last_attention_weights.shape}')\n"
   ],
   "metadata": {
    "colab": {
     "base_uri": "https://localhost:8080/"
    },
    "id": "yuwWXgtSincR",
    "outputId": "fc87a5f4-0a13-4769-e377-85a85eebc540"
   },
   "execution_count": 22,
   "outputs": [
    {
     "output_type": "stream",
     "name": "stdout",
     "text": [
      "Context sequence, shape (batch, s, units): (64, 22, 256)\n",
      "Target sequence, shape (batch, t, units): (64, 18, 256)\n",
      "Attention result, shape (batch, t, units): (64, 18, 256)\n",
      "Attention weights, shape (batch, t, s):    (64, 18, 22)\n"
     ]
    }
   ]
  },
  {
   "cell_type": "code",
   "source": [
    "# Attention weights across the context sequences at t=0\n",
    "attention_weights = attention_layer.last_attention_weights\n",
    "mask=(ex_context_tok != 0).numpy()\n",
    "\n",
    "plt.subplot(1, 2, 1)\n",
    "plt.pcolormesh(mask*attention_weights[:, 0, :])\n",
    "plt.title('Attention weights')\n",
    "\n",
    "plt.subplot(1, 2, 2)\n",
    "plt.pcolormesh(mask)\n",
    "plt.title('Mask');\n"
   ],
   "metadata": {
    "colab": {
     "base_uri": "https://localhost:8080/",
     "height": 452
    },
    "id": "41LG4AqWiovx",
    "outputId": "8e7833de-0145-47ea-b496-b125e846e6c2"
   },
   "execution_count": 23,
   "outputs": [
    {
     "output_type": "display_data",
     "data": {
      "text/plain": [
       "<Figure size 640x480 with 2 Axes>"
      ],
      "image/png": "[encoded data removed]"
     },
     "metadata": {}
    }
   ]
  },
  {
   "cell_type": "code",
   "source": [
    "# Decoder\n",
    "class Decoder(tf.keras.layers.Layer):\n",
    "  @classmethod\n",
    "  def add_method(cls, fun):\n",
    "    setattr(cls, fun.__name__, fun)\n",
    "    return fun\n",
    "\n",
    "  def __init__(self, text_processor, units):\n",
    "    super(Decoder, self).__init__()\n",
    "    self.text_processor = text_processor\n",
    "    self.vocab_size = text_processor.vocabulary_size()\n",
    "    self.word_to_id = tf.keras.layers.StringLookup(\n",
    "        vocabulary=text_processor.get_vocabulary(),\n",
    "        mask_token='', oov_token='[UNK]')\n",
    "    self.id_to_word = tf.keras.layers.StringLookup(\n",
    "        vocabulary=text_processor.get_vocabulary(),\n",
    "        mask_token='', oov_token='[UNK]',\n",
    "        invert=True)\n",
    "    self.start_token = self.word_to_id('[START]')\n",
    "    self.end_token = self.word_to_id('[END]')\n",
    "\n",
    "    self.units = units\n",
    "\n",
    "\n",
    "    # 1. The embedding layer converts token IDs to vectors\n",
    "    self.embedding = tf.keras.layers.Embedding(self.vocab_size,\n",
    "                                               units, mask_zero=True)\n",
    "\n",
    "    # 2. The RNN keeps track of what's been generated so far.\n",
    "    self.rnn = tf.keras.layers.GRU(units,\n",
    "                                   return_sequences=True,\n",
    "                                   return_state=True,\n",
    "                                   recurrent_initializer='glorot_uniform')\n",
    "\n",
    "    # 3. The RNN output will be the query for the attention layer.\n",
    "    self.attention = CrossAttention(units)\n",
    "\n",
    "    # 4. This fully connected layer produces the logits for each\n",
    "    # output token.\n",
    "    self.output_layer = tf.keras.layers.Dense(self.vocab_size)\n"
   ],
   "metadata": {
    "id": "p70vKwHCi2D4"
   },
   "execution_count": 24,
   "outputs": []
  },
  {
   "cell_type": "code",
   "source": [
    "## Training\n",
    "@Decoder.add_method\n",
    "def call(self,\n",
    "         context, x,\n",
    "         state=None,\n",
    "         return_state=False):\n",
    "\n",
    "  # 1. Lookup the embeddings\n",
    "  x = self.embedding(x)\n",
    "\n",
    "  # 2. Process the target sequence.\n",
    "  x, state = self.rnn(x, initial_state=state)\n",
    "\n",
    "  # 3. Use the RNN output as the query for the attention over the context.\n",
    "  x = self.attention(x, context)\n",
    "  self.last_attention_weights = self.attention.last_attention_weights\n",
    "\n",
    "  # Step 4. Generate logit predictions for the next token.\n",
    "  logits = self.output_layer(x)\n",
    "\n",
    "  if return_state:\n",
    "    return logits, state\n",
    "  else:\n",
    "    return logits\n"
   ],
   "metadata": {
    "id": "sDbL2clqi4qh"
   },
   "execution_count": 25,
   "outputs": []
  },
  {
   "cell_type": "code",
   "source": [
    "decoder = Decoder(target_text_processor, UNITS)"
   ],
   "metadata": {
    "id": "Xp4yxcsnjAtg"
   },
   "execution_count": 26,
   "outputs": []
  },
  {
   "cell_type": "code",
   "source": [
    "logits = decoder(ex_context, ex_tar_in)\n",
    "\n",
    "print(f'encoder output shape: (batch, s, units) {ex_context.shape}')\n",
    "print(f'input target tokens shape: (batch, t) {ex_tar_in.shape}')\n",
    "print(f'logits shape shape: (batch, target_vocabulary_size) {logits.shape}')\n"
   ],
   "metadata": {
    "colab": {
     "base_uri": "https://localhost:8080/"
    },
    "id": "zOYplS_3jCTo",
    "outputId": "beb98bf3-3d26-4bd8-dd97-2c13626b1332"
   },
   "execution_count": 27,
   "outputs": [
    {
     "output_type": "stream",
     "name": "stdout",
     "text": [
      "encoder output shape: (batch, s, units) (64, 22, 256)\n",
      "input target tokens shape: (batch, t) (64, 18)\n",
      "logits shape shape: (batch, target_vocabulary_size) (64, 18, 5000)\n"
     ]
    }
   ]
  },
  {
   "cell_type": "markdown",
   "source": [
    "### Inference utility"
   ],
   "metadata": {
    "id": "FLJUk7TsjHel"
   }
  },
  {
   "cell_type": "code",
   "source": [
    "@Decoder.add_method\n",
    "def get_initial_state(self, context):\n",
    "  batch_size = tf.shape(context)[0]\n",
    "  start_tokens = tf.fill([batch_size, 1], self.start_token)\n",
    "  done = tf.zeros([batch_size, 1], dtype=tf.bool)\n",
    "  embedded = self.embedding(start_tokens)\n",
    "  return start_tokens, done, self.rnn.get_initial_state(embedded)[0]\n"
   ],
   "metadata": {
    "id": "D4hBykSIjDxQ"
   },
   "execution_count": 28,
   "outputs": []
  },
  {
   "cell_type": "code",
   "source": [
    "@Decoder.add_method\n",
    "def tokens_to_text(self, tokens):\n",
    "  words = self.id_to_word(tokens)\n",
    "  result = tf.strings.reduce_join(words, axis=-1, separator=' ')\n",
    "  result = tf.strings.regex_replace(result, '^ *\\[START\\] *', '')\n",
    "  result = tf.strings.regex_replace(result, ' *\\[END\\] *$', '')\n",
    "  return result\n"
   ],
   "metadata": {
    "id": "86bomuqcjFUY"
   },
   "execution_count": 29,
   "outputs": []
  },
  {
   "cell_type": "code",
   "source": [
    "@Decoder.add_method\n",
    "def get_next_token(self, context, next_token, done, state, temperature = 0.0):\n",
    "  logits, state = self(\n",
    "    context, next_token,\n",
    "    state = state,\n",
    "    return_state=True)\n",
    "\n",
    "  if temperature == 0.0:\n",
    "    next_token = tf.argmax(logits, axis=-1)\n",
    "  else:\n",
    "    logits = logits[:, -1, :]/temperature\n",
    "    next_token = tf.random.categorical(logits, num_samples=1)\n",
    "\n",
    "  # If a sequence produces an `end_token`, set it `done`\n",
    "  done = done | (next_token == self.end_token)\n",
    "  # Once a sequence is done it only produces 0-padding.\n",
    "  next_token = tf.where(done, tf.constant(0, dtype=tf.int64), next_token)\n",
    "\n",
    "  return next_token, done, state\n"
   ],
   "metadata": {
    "id": "gmFXXvjgjJZY"
   },
   "execution_count": 30,
   "outputs": []
  },
  {
   "cell_type": "code",
   "source": [
    "# Setup the loop variables.\n",
    "next_token, done, state = decoder.get_initial_state(ex_context)\n",
    "tokens = []\n",
    "\n",
    "for n in range(10):\n",
    "  # Run one step.\n",
    "  next_token, done, state = decoder.get_next_token(\n",
    "      ex_context, next_token, done, state, temperature=1.0)\n",
    "  # Add the token to the output.\n",
    "  tokens.append(next_token)\n",
    "\n",
    "# Stack all the tokens together.\n",
    "tokens = tf.concat(tokens, axis=-1) # (batch, t)\n",
    "\n",
    "# Convert the tokens back to a a string\n",
    "result = decoder.tokens_to_text(tokens)\n",
    "result[:3].numpy()\n"
   ],
   "metadata": {
    "colab": {
     "base_uri": "https://localhost:8080/"
    },
    "id": "JHhRa0MwjKof",
    "outputId": "2df34145-1651-4f32-8082-46b7c672db00"
   },
   "execution_count": 31,
   "outputs": [
    {
     "output_type": "execute_result",
     "data": {
      "text/plain": [
       "array([b'hit cus granny training visited reporter eagle item president mba',\n",
       "       b'quit grounds d deals talk english mustache ide diet richard',\n",
       "       b'r denmark type nearest disco press meds question according submit'],\n",
       "      dtype=object)"
      ]
     },
     "metadata": {},
     "execution_count": 31
    }
   ]
  },
  {
   "cell_type": "markdown",
   "source": [
    "### Model"
   ],
   "metadata": {
    "id": "2QsvHGoujNnl"
   }
  },
  {
   "cell_type": "code",
   "source": [
    "class Translator(tf.keras.Model):\n",
    "  @classmethod\n",
    "  def add_method(cls, fun):\n",
    "    setattr(cls, fun.__name__, fun)\n",
    "    return fun\n",
    "\n",
    "  def __init__(self, units,\n",
    "               context_text_processor,\n",
    "               target_text_processor):\n",
    "    super().__init__()\n",
    "    # Build the encoder and decoder\n",
    "    encoder = Encoder(context_text_processor, units)\n",
    "    decoder = Decoder(target_text_processor, units)\n",
    "\n",
    "    self.encoder = encoder\n",
    "    self.decoder = decoder\n",
    "\n",
    "  def call(self, inputs):\n",
    "    context, x = inputs\n",
    "    context = self.encoder(context)\n",
    "    logits = self.decoder(context, x)\n",
    "\n",
    "    #TODO(b/250038731): remove this\n",
    "    try:\n",
    "      # Delete the keras mask, so keras doesn't scale the loss+accuracy.\n",
    "      del logits._keras_mask\n",
    "    except AttributeError:\n",
    "      pass\n",
    "\n",
    "    return logits\n"
   ],
   "metadata": {
    "id": "xbIOE6oSjMfv"
   },
   "execution_count": 32,
   "outputs": []
  },
  {
   "cell_type": "code",
   "source": [
    "model = Translator(UNITS, context_text_processor, target_text_processor)\n",
    "\n",
    "logits = model((ex_context_tok, ex_tar_in))\n",
    "\n",
    "print(f'Context tokens, shape: (batch, s, units) {ex_context_tok.shape}')\n",
    "print(f'Target tokens, shape: (batch, t) {ex_tar_in.shape}')\n",
    "print(f'logits, shape: (batch, t, target_vocabulary_size) {logits.shape}')\n"
   ],
   "metadata": {
    "colab": {
     "base_uri": "https://localhost:8080/"
    },
    "id": "rQu1wWxmjWAA",
    "outputId": "9c2487ee-f292-445f-8379-29803e2a0b44"
   },
   "execution_count": 33,
   "outputs": [
    {
     "output_type": "stream",
     "name": "stdout",
     "text": [
      "Context tokens, shape: (batch, s, units) (64, 22)\n",
      "Target tokens, shape: (batch, t) (64, 18)\n",
      "logits, shape: (batch, t, target_vocabulary_size) (64, 18, 5000)\n"
     ]
    }
   ]
  },
  {
   "cell_type": "code",
   "source": [
    "def masked_loss(y_true, y_pred):\n",
    "    # Calculate the loss for each item in the batch.\n",
    "    loss_fn = tf.keras.losses.SparseCategoricalCrossentropy(\n",
    "        from_logits=True, reduction='none')\n",
    "    loss = loss_fn(y_true, y_pred)\n",
    "\n",
    "    # Mask off the losses on padding.\n",
    "    mask = tf.cast(y_true != 0, loss.dtype)\n",
    "    loss *= mask\n",
    "\n",
    "    # Return the total.\n",
    "    return tf.reduce_sum(loss)/tf.reduce_sum(mask)\n"
   ],
   "metadata": {
    "id": "2UI2W80MjXR_"
   },
   "execution_count": 34,
   "outputs": []
  },
  {
   "cell_type": "code",
   "source": [
    "def masked_acc(y_true, y_pred):\n",
    "    # Calculate the loss for each item in the batch.\n",
    "    y_pred = tf.argmax(y_pred, axis=-1)\n",
    "    y_pred = tf.cast(y_pred, y_true.dtype)\n",
    "\n",
    "    match = tf.cast(y_true == y_pred, tf.float32)\n",
    "    mask = tf.cast(y_true != 0, tf.float32)\n",
    "\n",
    "    return tf.reduce_sum(match)/tf.reduce_sum(mask)\n"
   ],
   "metadata": {
    "id": "yr_uRtrNjZck"
   },
   "execution_count": 35,
   "outputs": []
  },
  {
   "cell_type": "code",
   "source": [
    "model.compile(optimizer='adam',\n",
    "              loss=masked_loss,\n",
    "              metrics=[masked_acc, masked_loss])\n"
   ],
   "metadata": {
    "id": "Np68WUy7jagi"
   },
   "execution_count": 36,
   "outputs": []
  },
  {
   "cell_type": "code",
   "source": [
    "vocab_size = 1.0 * target_text_processor.vocabulary_size()\n",
    "\n",
    "{\"expected_loss\": tf.math.log(vocab_size).numpy(),\n",
    " \"expected_acc\": 1/vocab_size}\n"
   ],
   "metadata": {
    "colab": {
     "base_uri": "https://localhost:8080/"
    },
    "id": "hY1Xu8apjcCI",
    "outputId": "439c8a5e-478a-4807-fd63-620cefcc8f53"
   },
   "execution_count": 37,
   "outputs": [
    {
     "output_type": "execute_result",
     "data": {
      "text/plain": [
       "{'expected_loss': 8.517193, 'expected_acc': 0.0002}"
      ]
     },
     "metadata": {},
     "execution_count": 37
    }
   ]
  },
  {
   "cell_type": "code",
   "source": [
    "model.evaluate(val_ds, steps=20, return_dict=True)"
   ],
   "metadata": {
    "colab": {
     "base_uri": "https://localhost:8080/"
    },
    "id": "iNvh4DU5jdkY",
    "outputId": "85282693-fd0b-4324-de43-545a5e9db3a6"
   },
   "execution_count": 38,
   "outputs": [
    {
     "output_type": "stream",
     "name": "stdout",
     "text": [
      "20/20 [==============================] - 11s 28ms/step - loss: 8.5275 - masked_acc: 1.5457e-04 - masked_loss: 8.5275\n"
     ]
    },
    {
     "output_type": "execute_result",
     "data": {
      "text/plain": [
       "{'loss': 8.527454376220703,\n",
       " 'masked_acc': 0.0001545698323752731,\n",
       " 'masked_loss': 8.527454376220703}"
      ]
     },
     "metadata": {},
     "execution_count": 38
    }
   ]
  },
  {
   "cell_type": "code",
   "source": [
    "history = model.fit(\n",
    "    train_ds.repeat(),\n",
    "    epochs=100,\n",
    "    steps_per_epoch = 100,\n",
    "    validation_data=val_ds,\n",
    "    validation_steps = 20,\n",
    "    callbacks=[\n",
    "        tf.keras.callbacks.EarlyStopping(patience=3)])\n"
   ],
   "metadata": {
    "colab": {
     "base_uri": "https://localhost:8080/"
    },
    "id": "G9tLe9jpjfmX",
    "outputId": "20073e74-55b2-46ee-8fc0-6b7107720358"
   },
   "execution_count": 39,
   "outputs": [
    {
     "output_type": "stream",
     "name": "stdout",
     "text": [
      "Epoch 1/100\n",
      "100/100 [==============================] - 30s 151ms/step - loss: 4.0937 - masked_acc: 0.3847 - masked_loss: 4.0937 - val_loss: 2.9806 - val_masked_acc: 0.5143 - val_masked_loss: 2.9806\n",
      "Epoch 2/100\n",
      "100/100 [==============================] - 5s 51ms/step - loss: 2.6477 - masked_acc: 0.5633 - masked_loss: 2.6477 - val_loss: 2.0818 - val_masked_acc: 0.6375 - val_masked_loss: 2.0818\n",
      "Epoch 3/100\n",
      "100/100 [==============================] - 6s 56ms/step - loss: 1.8024 - masked_acc: 0.6819 - masked_loss: 1.8024 - val_loss: 1.4139 - val_masked_acc: 0.7390 - val_masked_loss: 1.4139\n",
      "Epoch 4/100\n",
      "100/100 [==============================] - 4s 45ms/step - loss: 1.2968 - masked_acc: 0.7581 - masked_loss: 1.2968 - val_loss: 1.0470 - val_masked_acc: 0.7972 - val_masked_loss: 1.0470\n",
      "Epoch 5/100\n",
      "100/100 [==============================] - 4s 41ms/step - loss: 0.9423 - masked_acc: 0.8114 - masked_loss: 0.9405 - val_loss: 0.8342 - val_masked_acc: 0.8288 - val_masked_loss: 0.8342\n",
      "Epoch 6/100\n",
      "100/100 [==============================] - 6s 58ms/step - loss: 0.7590 - masked_acc: 0.8402 - masked_loss: 0.7590 - val_loss: 0.7371 - val_masked_acc: 0.8440 - val_masked_loss: 0.7371\n",
      "Epoch 7/100\n",
      "100/100 [==============================] - 4s 40ms/step - loss: 0.6997 - masked_acc: 0.8521 - masked_loss: 0.6997 - val_loss: 0.6467 - val_masked_acc: 0.8555 - val_masked_loss: 0.6467\n",
      "Epoch 8/100\n",
      "100/100 [==============================] - 5s 53ms/step - loss: 0.6037 - masked_acc: 0.8635 - masked_loss: 0.6037 - val_loss: 0.5815 - val_masked_acc: 0.8679 - val_masked_loss: 0.5815\n",
      "Epoch 9/100\n",
      "100/100 [==============================] - 6s 63ms/step - loss: 0.4545 - masked_acc: 0.8906 - masked_loss: 0.4553 - val_loss: 0.5323 - val_masked_acc: 0.8818 - val_masked_loss: 0.5323\n",
      "Epoch 10/100\n",
      "100/100 [==============================] - 4s 39ms/step - loss: 0.4166 - masked_acc: 0.8966 - masked_loss: 0.4166 - val_loss: 0.5076 - val_masked_acc: 0.8828 - val_masked_loss: 0.5076\n",
      "Epoch 11/100\n",
      "100/100 [==============================] - 5s 48ms/step - loss: 0.3978 - masked_acc: 0.9002 - masked_loss: 0.3978 - val_loss: 0.4861 - val_masked_acc: 0.8849 - val_masked_loss: 0.4861\n",
      "Epoch 12/100\n",
      "100/100 [==============================] - 5s 52ms/step - loss: 0.4057 - masked_acc: 0.8986 - masked_loss: 0.4057 - val_loss: 0.4664 - val_masked_acc: 0.8878 - val_masked_loss: 0.4664\n",
      "Epoch 13/100\n",
      "100/100 [==============================] - 5s 55ms/step - loss: 0.3198 - masked_acc: 0.9168 - masked_loss: 0.3182 - val_loss: 0.4524 - val_masked_acc: 0.8934 - val_masked_loss: 0.4524\n",
      "Epoch 14/100\n",
      "100/100 [==============================] - 4s 38ms/step - loss: 0.3065 - masked_acc: 0.9179 - masked_loss: 0.3065 - val_loss: 0.4558 - val_masked_acc: 0.8924 - val_masked_loss: 0.4558\n",
      "Epoch 15/100\n",
      "100/100 [==============================] - 4s 38ms/step - loss: 0.3092 - masked_acc: 0.9171 - masked_loss: 0.3092 - val_loss: 0.4000 - val_masked_acc: 0.9049 - val_masked_loss: 0.4000\n",
      "Epoch 16/100\n",
      "100/100 [==============================] - 5s 52ms/step - loss: 0.3053 - masked_acc: 0.9175 - masked_loss: 0.3053 - val_loss: 0.4278 - val_masked_acc: 0.8992 - val_masked_loss: 0.4278\n",
      "Epoch 17/100\n",
      "100/100 [==============================] - 4s 39ms/step - loss: 0.2508 - masked_acc: 0.9290 - masked_loss: 0.2504 - val_loss: 0.3684 - val_masked_acc: 0.9102 - val_masked_loss: 0.3684\n",
      "Epoch 18/100\n",
      "100/100 [==============================] - 5s 52ms/step - loss: 0.2469 - masked_acc: 0.9303 - masked_loss: 0.2469 - val_loss: 0.4033 - val_masked_acc: 0.9054 - val_masked_loss: 0.4033\n",
      "Epoch 19/100\n",
      "100/100 [==============================] - 5s 50ms/step - loss: 0.2492 - masked_acc: 0.9315 - masked_loss: 0.2492 - val_loss: 0.4160 - val_masked_acc: 0.9061 - val_masked_loss: 0.4160\n",
      "Epoch 20/100\n",
      "100/100 [==============================] - 4s 39ms/step - loss: 0.2527 - masked_acc: 0.9290 - masked_loss: 0.2527 - val_loss: 0.3932 - val_masked_acc: 0.9074 - val_masked_loss: 0.3932\n"
     ]
    }
   ]
  },
  {
   "cell_type": "code",
   "source": [
    "plt.plot(history.history['loss'], label='loss')\n",
    "plt.plot(history.history['val_loss'], label='val_loss')\n",
    "plt.ylim([0, max(plt.ylim())])\n",
    "plt.xlabel('Epoch #')\n",
    "plt.ylabel('CE/token')\n",
    "plt.legend()\n"
   ],
   "metadata": {
    "colab": {
     "base_uri": "https://localhost:8080/",
     "height": 468
    },
    "id": "awqCcsk5jhxG",
    "outputId": "a7911b22-92b3-4c7b-8b7a-da0687d85501"
   },
   "execution_count": 40,
   "outputs": [
    {
     "output_type": "execute_result",
     "data": {
      "text/plain": [
       "<matplotlib.legend.Legend at 0x7ed77685b340>"
      ]
     },
     "metadata": {},
     "execution_count": 40
    },
    {
     "output_type": "display_data",
     "data": {
      "text/plain": [
       "<Figure size 640x480 with 1 Axes>"
      ],
      "image/png": "[encoded data removed]"
     },
     "metadata": {}
    }
   ]
  },
  {
   "cell_type": "code",
   "source": [
    "plt.plot(history.history['masked_acc'], label='accuracy')\n",
    "plt.plot(history.history['val_masked_acc'], label='val_accuracy')\n",
    "plt.ylim([0, max(plt.ylim())])\n",
    "plt.xlabel('Epoch #')\n",
    "plt.ylabel('CE/token')\n",
    "plt.legend()\n"
   ],
   "metadata": {
    "colab": {
     "base_uri": "https://localhost:8080/",
     "height": 468
    },
    "id": "xejRrl7sjjJp",
    "outputId": "66fac7b1-45f1-4a17-ee2b-26a07bd63896"
   },
   "execution_count": 41,
   "outputs": [
    {
     "output_type": "execute_result",
     "data": {
      "text/plain": [
       "<matplotlib.legend.Legend at 0x7ed76fc4c820>"
      ]
     },
     "metadata": {},
     "execution_count": 41
    },
    {
     "output_type": "display_data",
     "data": {
      "text/plain": [
       "<Figure size 640x480 with 1 Axes>"
      ],
      "image/png": "[encoded data removed]"
     },
     "metadata": {}
    }
   ]
  },
  {
   "cell_type": "code",
   "source": [
    "@Translator.add_method\n",
    "def translate(self,\n",
    "              texts,\n",
    "              *,\n",
    "              max_length=500,\n",
    "              temperature=tf.constant(0.0)):\n",
    "  context = self.encoder.convert_input(texts)\n",
    "  batch_size = tf.shape(context)[0]\n",
    "\n",
    "  next_token, done, state = self.decoder.get_initial_state(context)\n",
    "\n",
    "  # initialize the accumulator\n",
    "  tokens = tf.TensorArray(tf.int64, size=1, dynamic_size=True)\n",
    "\n",
    "  for t in tf.range(max_length):\n",
    "    # Generate the next token\n",
    "    next_token, done, state = self.decoder.get_next_token(\n",
    "        context, next_token, done, state, temperature)\n",
    "\n",
    "    # Collect the generated tokens\n",
    "    tokens = tokens.write(t, next_token)\n",
    "\n",
    "    # if all the sequences are done, break\n",
    "    if tf.reduce_all(done):\n",
    "      break\n",
    "\n",
    "  # Convert the list of generated token ids to a list of strings.\n",
    "  tokens = tokens.stack()\n",
    "  # tokens = einops.rearrange(tokens, 't batch 1 -> batch t')\n",
    "\n",
    "  text = self.decoder.tokens_to_text(tokens)\n",
    "\n",
    "  return text\n"
   ],
   "metadata": {
    "id": "WyxZbtqMliik"
   },
   "execution_count": 42,
   "outputs": []
  },
  {
   "cell_type": "code",
   "source": [
    "@Translator.add_method\n",
    "def plot_attention(self, text, **kwargs):\n",
    "  assert isinstance(text, str)\n",
    "  output = self.translate([text], **kwargs)\n",
    "  output = output[0].numpy().decode()\n",
    "\n",
    "  attention = self.last_attention_weights[0]\n",
    "\n",
    "  context = tf_lower_and_split_punct(text)\n",
    "  context = context.numpy().decode().split()\n",
    "\n",
    "  output = tf_lower_and_split_punct(output)\n",
    "  output = output.numpy().decode().split()[1:]\n",
    "\n",
    "  fig = plt.figure(figsize=(10, 10))\n",
    "  ax = fig.add_subplot(1, 1, 1)\n",
    "\n",
    "  ax.matshow(attention, cmap='viridis', vmin=0.0)\n",
    "\n",
    "  fontdict = {'fontsize': 14}\n",
    "\n",
    "  ax.set_xticklabels([''] + context, fontdict=fontdict, rotation=90)\n",
    "  ax.set_yticklabels([''] + output, fontdict=fontdict)\n",
    "\n",
    "  ax.xaxis.set_major_locator(ticker.MultipleLocator(1))\n",
    "  ax.yaxis.set_major_locator(ticker.MultipleLocator(1))\n",
    "\n",
    "  ax.set_xlabel('Input text')\n",
    "  ax.set_ylabel('Output text')\n"
   ],
   "metadata": {
    "id": "r1sCz90umaFL"
   },
   "execution_count": 43,
   "outputs": []
  },
  {
   "cell_type": "code",
   "source": [
    "inputs = ['hi @CN@ , @SCN@ wanted you to read the catalog.',\n",
    " 'hi @CN@ , @SCN@ is eager to know how to play a proper cover drive',\n",
    " 'hi @CN@, @SCN@ is asking what punishment would you give someone who is on welfare illegally?',\n",
    " 'hi @CN@, @SCN@ wants to inform you to pick up the groceries.',\n",
    " 'hi @CN@ , @SCN@ is informing that the reviews are really poor'\n",
    "]\n"
   ],
   "metadata": {
    "id": "-GyG315MkQVZ"
   },
   "execution_count": 44,
   "outputs": []
  },
  {
   "cell_type": "code",
   "source": [
    "%%time\n",
    "for t in inputs:\n",
    "  print(\"Original\", t)\n",
    "  decoded = [text[0].decode() for text in model.translate([t]).numpy()]\n",
    "  print(\"Translated\", \" \".join(decoded))\n",
    "  print()\n"
   ],
   "metadata": {
    "colab": {
     "base_uri": "https://localhost:8080/"
    },
    "id": "ewPt4eQ0ldbs",
    "outputId": "03791c94-6f33-4b99-c6e7-f42deae80135"
   },
   "execution_count": 56,
   "outputs": [
    {
     "output_type": "stream",
     "name": "stdout",
     "text": [
      "Original hi @CN@ , @SCN@ wanted you to read the catalog.\n",
      "Translated can you ask cn to read the catalog \n",
      "\n",
      "Original hi @CN@ , @SCN@ is eager to know how to play a proper cover drive\n",
      "Translated can you ask cn how to play a proper cover drive \n",
      "\n",
      "Original hi @CN@, @SCN@ is asking what punishment would you give someone who is on welfare illegally?\n",
      "Translated ask cn , what punishment would you give someone who is on welfare ? \n",
      "\n",
      "Original hi @CN@, @SCN@ wants to inform you to pick up the groceries.\n",
      "Translated please ask cn to pick up the groceries \n",
      "\n",
      "Original hi @CN@ , @SCN@ is informing that the reviews are really poor\n",
      "Translated can you tell cn that the reviews are really poor \n",
      "\n",
      "CPU times: user 2.61 s, sys: 22.4 ms, total: 2.63 s\n",
      "Wall time: 4.62 s\n"
     ]
    }
   ]
  },
  {
   "cell_type": "code",
   "source": [
    "# model.plot_attention(inputs[2])"
   ],
   "metadata": {
    "id": "zqs_7zobld3W"
   },
   "execution_count": 47,
   "outputs": []
  },
  {
   "cell_type": "code",
   "source": [
    "class Export(tf.Module):\n",
    "  def __init__(self, model):\n",
    "    self.model = model\n",
    "\n",
    "  @tf.function(input_signature=[tf.TensorSpec(dtype=tf.string, shape=[None])])\n",
    "  def translate(self, inputs):\n",
    "    return self.model.translate(inputs)"
   ],
   "metadata": {
    "id": "xciWK1DVsynZ"
   },
   "execution_count": null,
   "outputs": []
  },
  {
   "cell_type": "code",
   "source": [
    "export = Export(model)"
   ],
   "metadata": {
    "id": "08P0YoO3vWCe"
   },
   "execution_count": null,
   "outputs": []
  },
  {
   "cell_type": "code",
   "source": [
    "%%time\n",
    "result = export.translate(inputs)\n",
    "\n",
    "print(result[0].numpy())\n",
    "print(result[1].numpy().decode())\n",
    "print(result[2].numpy().decode())\n",
    "print()"
   ],
   "metadata": {
    "id": "3OIN853bvw6r"
   },
   "execution_count": null,
   "outputs": []
  },
  {
   "cell_type": "code",
   "source": [
    "%%time\n",
    "tf.saved_model.save(export, 'translator',\n",
    "                    signatures={'serving_default': export.translate})"
   ],
   "metadata": {
    "id": "ZrLFc8BPvW_r"
   },
   "execution_count": null,
   "outputs": []
  },
  {
   "cell_type": "code",
   "source": [
    "%%time\n",
    "reloaded = tf.saved_model.load('translator')\n",
    "_ = reloaded.translate(tf.constant(inputs)) #warmup"
   ],
   "metadata": {
    "id": "la1eq5v3vccL"
   },
   "execution_count": null,
   "outputs": []
  }
 ]
}
